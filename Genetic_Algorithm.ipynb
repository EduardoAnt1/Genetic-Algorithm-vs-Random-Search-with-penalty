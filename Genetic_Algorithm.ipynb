{
  "cells": [
    {
      "cell_type": "code",
      "execution_count": null,
      "metadata": {},
      "outputs": [],
      "source": [
        "import numpy as np\n",
        "import matplotlib.pyplot as plt\n",
        "import plotly.graph_objs as go"
      ]
    },
    {
      "cell_type": "code",
      "execution_count": null,
      "metadata": {},
      "outputs": [],
      "source": [
        "# Função do desafio 14\n",
        "def objetive_function(args):\n",
        "    f = 0\n",
        "    tam,x, c = args\n",
        "    for i in range(tam):\n",
        "        f+=x[i]*(c[i]+np.log(x[i]/sum(x)))\n",
        "    return f"
      ]
    },
    {
      "cell_type": "code",
      "execution_count": null,
      "metadata": {},
      "outputs": [],
      "source": [
        "def function_constraints (args):\n",
        "    x = args\n",
        "    h = [None]*3\n",
        "    h[0] = x[0]+2*x[1]+2*x[2]+x[5]+x[9]-2\n",
        "    h[1] = x[3]+2*x[4]+x[5]+x[6]-1\n",
        "    h[2] = x[2]+x[6]+x[7]+2*x[8]+x[9]-1\n",
        "    return h"
      ]
    },
    {
      "cell_type": "code",
      "execution_count": null,
      "metadata": {},
      "outputs": [],
      "source": [
        "#setando a função fitness\n",
        "fitness_function = objetive_function"
      ]
    },
    {
      "cell_type": "code",
      "execution_count": null,
      "metadata": {},
      "outputs": [],
      "source": [
        "#setando as restrições\n",
        "constraint_func= function_constraints"
      ]
    },
    {
      "cell_type": "code",
      "execution_count": null,
      "metadata": {},
      "outputs": [],
      "source": [
        "# Função para inicializar a população\n",
        "def initialize_population(pop_size, num_variables, min_val, max_val):\n",
        "    return np.random.uniform(min_val, max_val, (pop_size, num_variables))"
      ]
    },
    {
      "cell_type": "code",
      "execution_count": null,
      "metadata": {},
      "outputs": [],
      "source": [
        "# Função de seleção de pais (Torneio)\n",
        "def select_parents(population, fitness, tournament_size):\n",
        "    selected_parents = []\n",
        "    pop_size = population.shape[0]\n",
        "    for _ in range(pop_size):\n",
        "        tournament_indices = np.random.choice(range(pop_size), size=tournament_size, replace=False)\n",
        "        tournament_fitness = fitness[tournament_indices]\n",
        "        selected_parent_idx = tournament_indices[np.argmin(tournament_fitness)]\n",
        "        selected_parents.append(population[selected_parent_idx])\n",
        "    return np.array(selected_parents)"
      ]
    },
    {
      "cell_type": "code",
      "execution_count": null,
      "metadata": {},
      "outputs": [],
      "source": [
        "# Função de crossover (Ponto Único)\n",
        "def crossover(parents, crossover_rate):\n",
        "    num_parents, num_variables = parents.shape\n",
        "    children = np.empty((num_parents, num_variables))\n",
        "    for i in range(0, num_parents, 2):\n",
        "        if np.random.rand() < crossover_rate:\n",
        "            crossover_point = np.random.randint(1, num_variables)\n",
        "            children[i] = np.concatenate((parents[i][:crossover_point], parents[i+1][crossover_point:]))\n",
        "            children[i+1] = np.concatenate((parents[i+1][:crossover_point], parents[i][crossover_point:]))\n",
        "        else:\n",
        "            children[i] = parents[i]\n",
        "            children[i+1] = parents[i+1]\n",
        "    return children"
      ]
    },
    {
      "cell_type": "code",
      "execution_count": null,
      "metadata": {},
      "outputs": [],
      "source": [
        "# Função de mutação (Uniforme)\n",
        "def mutate(children, mutation_rate, min_val, max_val):\n",
        "    mutated_children = np.copy(children)\n",
        "    for child in mutated_children:\n",
        "        for i in range(len(child)):\n",
        "            if np.random.rand() < mutation_rate:\n",
        "                child[i] = np.random.uniform(min_val[i], max_val[i])\n",
        "    return mutated_children"
      ]
    },
    {
      "cell_type": "code",
      "execution_count": null,
      "metadata": {},
      "outputs": [],
      "source": [
        "# Função para avaliar o fitness de cada indivíduo na população\n",
        "def evaluate_population(population):\n",
        "    return np.apply_along_axis(fitness_function, 1, population)"
      ]
    },
    {
      "cell_type": "code",
      "execution_count": null,
      "metadata": {},
      "outputs": [],
      "source": [
        "# Função para avaliar o fitness de cada indivíduo na população, com penalização para soluções inviáveis\n",
        "def evaluate_population_with_constraints(population, constraint_func):\n",
        "    fitness = np.apply_along_axis(fitness_function, 1, population)\n",
        "    for i, sol in enumerate(population):\n",
        "        if not all(c >= 0 for c in constraint_func(sol)):\n",
        "            fitness[i] = np.inf  # Penalizar soluções inviáveis com um fitness infinito\n",
        "    return fitness"
      ]
    },
    {
      "cell_type": "code",
      "execution_count": null,
      "metadata": {},
      "outputs": [],
      "source": [
        "# Função para encontrar o melhor indivíduo na população\n",
        "def find_best_individual(population, fitness):\n",
        "    best_idx = np.argmin(fitness)\n",
        "    return population[best_idx], fitness[best_idx]"
      ]
    },
    {
      "cell_type": "code",
      "execution_count": null,
      "metadata": {},
      "outputs": [],
      "source": [
        "# Algoritmo Genético\n",
        "def genetic_algorithm(num_generations, pop_size, num_variables, min_val, max_val, crossover_rate, mutation_rate, tournament_size):\n",
        "    population = initialize_population(pop_size, num_variables, min_val, max_val)\n",
        "    best_fitness = []\n",
        "    best_solutions = []\n",
        "    all_solutions=[]\n",
        "    all_fitness=[]\n",
        "    for _ in range(num_generations):\n",
        "        fitness = evaluate_population(population)\n",
        "        # fitness = evaluate_population_with_constraints(population,constraint_func)\n",
        "        best_individual, best_fitness_value = find_best_individual(population, fitness)\n",
        "        best_fitness.append(best_fitness_value)\n",
        "        best_solutions.append(best_individual)\n",
        "        for i in range(pop_size):\n",
        "          all_solutions.append(population[i])\n",
        "          all_fitness.append(fitness[i])\n",
        "        parents = select_parents(population, fitness, tournament_size)\n",
        "        children = crossover(parents, crossover_rate)\n",
        "        mutated_children = mutate(children, mutation_rate, min_val, max_val)\n",
        "        population = mutated_children\n",
        "    return best_fitness, best_solutions, all_fitness, all_solutions"
      ]
    },
    {
      "cell_type": "code",
      "execution_count": null,
      "metadata": {},
      "outputs": [],
      "source": [
        "# Parâmetros do algoritmo genético\n",
        "num_generations = [100,1000,10000]\n",
        "pop_size = 80\n",
        "num_variables = 2\n",
        "# min_val = [0.00625,0.00625,10,10]\n",
        "# max_val = [5,5,200,200]\n",
        "min_val = [-32.768,-32.768]\n",
        "max_val = [32.768,32.768]\n",
        "crossover_rate = 0.8\n",
        "mutation_rate = 0.1\n",
        "tournament_size = 3"
      ]
    },
    {
      "cell_type": "code",
      "execution_count": 1,
      "metadata": {
        "colab": {
          "base_uri": "https://localhost:8080/",
          "height": 488
        },
        "id": "HnpOWkeO31PQ",
        "outputId": "e0669e99-ab14-41ec-bfc9-defece2faec5"
      },
      "outputs": [
        {
          "data": {
            "image/png": "[encoded data removed]",
            "text/plain": [
              "<Figure size 1000x500 with 1 Axes>"
            ]
          },
          "metadata": {},
          "output_type": "display_data"
        }
      ],
      "source": [
        "# Execução do algoritmo genético\n",
        "best_fitness, best_solutions, all_fitness, all_solutions = genetic_algorithm(num_generations, pop_size, num_variables, min_val, max_val, crossover_rate, mutation_rate, tournament_size)\n",
        "\n",
        "\n",
        "# Plotando o gráfico da convergência do algoritmo\n",
        "plt.figure(figsize=(10, 5))\n",
        "plt.plot(best_fitness, label='Melhor Fitness')\n",
        "plt.xlabel('Geração')\n",
        "plt.ylabel('Fitness')\n",
        "plt.title('Convergência do Algoritmo Genético')\n",
        "plt.legend()\n",
        "plt.grid(True)\n",
        "plt.show()\n",
        "\n",
        "#Dados para plot do gráfico 3D\n",
        "fig = plt.figure()\n",
        "ax = fig.add_subplot(projection='3d')\n",
        "\n",
        "x1_v = np.array(all_solutions)[:,0]\n",
        "x2_v = np.array(all_solutions)[:,1]\n",
        "\n",
        "surf =ax.scatter(x1_v,x2_v,all_fitness,s=1, color='r')\n",
        "\n",
        "\n"
      ]
    }
  ],
  "metadata": {
    "colab": {
      "provenance": []
    },
    "kernelspec": {
      "display_name": "Python 3",
      "name": "python3"
    },
    "language_info": {
      "name": "python"
    }
  },
  "nbformat": 4,
  "nbformat_minor": 0
}
