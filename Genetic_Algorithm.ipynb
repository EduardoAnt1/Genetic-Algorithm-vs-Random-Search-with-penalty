{
  "cells": [
    {
      "cell_type": "code",
      "execution_count": 33,
      "metadata": {},
      "outputs": [],
      "source": [
        "import numpy as np\n",
        "import matplotlib.pyplot as plt\n",
        "import plotly.graph_objs as go\n",
        "import random "
      ]
    },
    {
      "cell_type": "code",
      "execution_count": 34,
      "metadata": {},
      "outputs": [],
      "source": [
        "# Função do desafio 14\n",
        "def objetive_function(x):\n",
        "    f = 0\n",
        "    tam = x.size(0)\n",
        "    c = [-6.089,-17.164,-34.054,-5.914,-24.721,-14.986,-24.1,-10.708,-26.662,-22.179]\n",
        "    for i in range(tam):\n",
        "        f+=x[i]*(c[i]+np.log(x[i]/sum(x)))\n",
        "    return f"
      ]
    },
    {
      "cell_type": "code",
      "execution_count": 35,
      "metadata": {},
      "outputs": [],
      "source": [
        "def function_constraints (args):\n",
        "    x = args\n",
        "    h = [None]*3\n",
        "    h[0] = x[0]+2*x[1]+2*x[2]+x[5]+x[9]-2\n",
        "    h[1] = x[3]+2*x[4]+x[5]+x[6]-1\n",
        "    h[2] = x[2]+x[6]+x[7]+2*x[8]+x[9]-1\n",
        "    return h"
      ]
    },
    {
      "cell_type": "code",
      "execution_count": 36,
      "metadata": {},
      "outputs": [],
      "source": [
        "#setando a função fitness\n",
        "fitness_function = objetive_function"
      ]
    },
    {
      "cell_type": "code",
      "execution_count": 37,
      "metadata": {},
      "outputs": [],
      "source": [
        "#setando as restrições\n",
        "constraint_func= function_constraints"
      ]
    },
    {
      "cell_type": "code",
      "execution_count": 38,
      "metadata": {},
      "outputs": [],
      "source": [
        "# Função para inicializar a população\n",
        "def initialize_population(pop_size, num_variables, min_val, max_val):\n",
        "    return np.random.uniform(min_val, max_val, (pop_size, num_variables))"
      ]
    },
    {
      "cell_type": "code",
      "execution_count": 39,
      "metadata": {},
      "outputs": [],
      "source": [
        "# Função de seleção de pais (Torneio)\n",
        "def select_parents(population, fitness, tournament_size):\n",
        "    selected_parents = []\n",
        "    pop_size = population.shape[0]\n",
        "    for _ in range(pop_size):\n",
        "        tournament_indices = np.random.choice(range(pop_size), size=tournament_size, replace=False)\n",
        "        tournament_fitness = fitness[tournament_indices]\n",
        "        selected_parent_idx = tournament_indices[np.argmin(tournament_fitness)]\n",
        "        selected_parents.append(population[selected_parent_idx])\n",
        "    return np.array(selected_parents)"
      ]
    },
    {
      "cell_type": "code",
      "execution_count": 40,
      "metadata": {},
      "outputs": [],
      "source": [
        "# Função de crossover (Ponto Único)\n",
        "def crossover(parents, crossover_rate):\n",
        "    num_parents, num_variables = parents.shape\n",
        "    children = np.empty((num_parents, num_variables))\n",
        "    for i in range(0, num_parents, 2):\n",
        "        if np.random.rand() < crossover_rate:\n",
        "            crossover_point = np.random.randint(1, num_variables)\n",
        "            children[i] = np.concatenate((parents[i][:crossover_point], parents[i+1][crossover_point:]))\n",
        "            children[i+1] = np.concatenate((parents[i+1][:crossover_point], parents[i][crossover_point:]))\n",
        "        else:\n",
        "            children[i] = parents[i]\n",
        "            children[i+1] = parents[i+1]\n",
        "    return children"
      ]
    },
    {
      "cell_type": "code",
      "execution_count": 41,
      "metadata": {},
      "outputs": [],
      "source": [
        "# Função de mutação (Uniforme)\n",
        "def mutate(children, mutation_rate, min_val, max_val):\n",
        "    mutated_children = np.copy(children)\n",
        "    for child in mutated_children:\n",
        "        for i in range(len(child)):\n",
        "            if np.random.rand() < mutation_rate:\n",
        "                child[i] = np.random.uniform(min_val[i], max_val[i])\n",
        "    return mutated_children"
      ]
    },
    {
      "cell_type": "code",
      "execution_count": 42,
      "metadata": {},
      "outputs": [],
      "source": [
        "# Função para avaliar o fitness de cada indivíduo na população\n",
        "def evaluate_population(population):\n",
        "    return np.apply_along_axis(fitness_function, 1, population)"
      ]
    },
    {
      "cell_type": "code",
      "execution_count": 43,
      "metadata": {},
      "outputs": [],
      "source": [
        "# Função para avaliar o fitness de cada indivíduo na população, com barreira para soluções inviáveis\n",
        "def evaluate_population_with_barrier(population, constraint_func):\n",
        "    fitness = np.apply_along_axis(fitness_function, 1, population)\n",
        "    for i, sol in enumerate(population):\n",
        "        if not all(c >= 1*10**-5  for c in constraint_func(sol)):\n",
        "            fitness[i] = np.inf  # Penalizar soluções inviáveis com um fitness infinito\n",
        "    return fitness"
      ]
    },
    {
      "cell_type": "code",
      "execution_count": 44,
      "metadata": {},
      "outputs": [],
      "source": [
        "# Função para avaliar o fitness de cada indivíduo na população, com penalização para soluções inviáveis\n",
        "def evaluate_population_with_penalty(population, constraint_func):\n",
        "    fitness = np.apply_along_axis(fitness_function, 1, population)\n",
        "    for i, sol in enumerate(population):\n",
        "        if not all(c >= 1*10**-5 for c in constraint_func(sol)):\n",
        "            for c in constraint_func(sol):\n",
        "                if not (c >= 1*10**-5):\n",
        "                    fitness[i] += abs(c)  # Penalizar soluções inviáveis com um fitness maior\n",
        "    return fitness"
      ]
    },
    {
      "cell_type": "code",
      "execution_count": 45,
      "metadata": {},
      "outputs": [],
      "source": [
        "# Função para encontrar o melhor indivíduo na população\n",
        "def find_best_individual(population, fitness):\n",
        "    best_idx = np.argmin(fitness)\n",
        "    return population[best_idx], fitness[best_idx]"
      ]
    },
    {
      "cell_type": "code",
      "execution_count": 46,
      "metadata": {},
      "outputs": [],
      "source": [
        "# Algoritmo Genético\n",
        "def genetic_algorithm(num_generations, pop_size, num_variables, min_val, max_val, crossover_rate, mutation_rate, tournament_size):\n",
        "    population = initialize_population(pop_size, num_variables, min_val, max_val)\n",
        "    best_fitness = []\n",
        "    best_solutions = []\n",
        "    all_solutions=[]\n",
        "    all_fitness=[]\n",
        "    for _ in range(num_generations):\n",
        "        #fitness = evaluate_population(population)\n",
        "        fitness = evaluate_population_with_barrier(population,constraint_func)\n",
        "        best_individual, best_fitness_value = find_best_individual(population, fitness)\n",
        "        best_fitness.append(best_fitness_value)\n",
        "        best_solutions.append(best_individual)\n",
        "        for i in range(pop_size):\n",
        "          all_solutions.append(population[i])\n",
        "          all_fitness.append(fitness[i])\n",
        "        parents = select_parents(population, fitness, tournament_size)\n",
        "        children = crossover(parents, crossover_rate)\n",
        "        mutated_children = mutate(children, mutation_rate, min_val, max_val)\n",
        "        population = mutated_children\n",
        "    return best_fitness, best_solutions, all_fitness, all_solutions"
      ]
    },
    {
      "cell_type": "code",
      "execution_count": 47,
      "metadata": {},
      "outputs": [],
      "source": [
        "# Parâmetros do algoritmo genético\n",
        "num_generations = [100,1000,10000] \n",
        "pop_size = 50\n",
        "num_variables = 10\n",
        "min_val = [0]\n",
        "max_val = [10]\n",
        "crossover_rate = 0.8\n",
        "mutation_rate = 0.1\n",
        "tournament_size = 5"
      ]
    },
    {
      "cell_type": "code",
      "execution_count": 48,
      "metadata": {
        "colab": {
          "base_uri": "https://localhost:8080/",
          "height": 488
        },
        "id": "HnpOWkeO31PQ",
        "outputId": "e0669e99-ab14-41ec-bfc9-defece2faec5"
      },
      "outputs": [
        {
          "ename": "TypeError",
          "evalue": "'int' object is not callable",
          "output_type": "error",
          "traceback": [
            "\u001b[1;31m---------------------------------------------------------------------------\u001b[0m",
            "\u001b[1;31mTypeError\u001b[0m                                 Traceback (most recent call last)",
            "Cell \u001b[1;32mIn[48], line 5\u001b[0m\n\u001b[0;32m      3\u001b[0m random\u001b[38;5;241m.\u001b[39mseed(i)\n\u001b[0;32m      4\u001b[0m \u001b[38;5;66;03m# Execução do algoritmo genético\u001b[39;00m\n\u001b[1;32m----> 5\u001b[0m best_fitness, best_solutions, all_fitness, all_solutions \u001b[38;5;241m=\u001b[39m \u001b[43mgenetic_algorithm\u001b[49m\u001b[43m(\u001b[49m\u001b[43mnum_g\u001b[49m\u001b[43m,\u001b[49m\u001b[43m \u001b[49m\u001b[43mpop_size\u001b[49m\u001b[43m,\u001b[49m\u001b[43m \u001b[49m\u001b[43mnum_variables\u001b[49m\u001b[43m,\u001b[49m\u001b[43m \u001b[49m\u001b[43mmin_val\u001b[49m\u001b[43m,\u001b[49m\u001b[43m \u001b[49m\u001b[43mmax_val\u001b[49m\u001b[43m,\u001b[49m\u001b[43m \u001b[49m\u001b[43mcrossover_rate\u001b[49m\u001b[43m,\u001b[49m\u001b[43m \u001b[49m\u001b[43mmutation_rate\u001b[49m\u001b[43m,\u001b[49m\u001b[43m \u001b[49m\u001b[43mtournament_size\u001b[49m\u001b[43m)\u001b[49m\n\u001b[0;32m      7\u001b[0m \u001b[38;5;66;03m# Plotando o gráfico da convergência do algoritmo\u001b[39;00m\n\u001b[0;32m      8\u001b[0m plt\u001b[38;5;241m.\u001b[39mfigure(figsize\u001b[38;5;241m=\u001b[39m(\u001b[38;5;241m10\u001b[39m, \u001b[38;5;241m5\u001b[39m))\n",
            "Cell \u001b[1;32mIn[46], line 10\u001b[0m, in \u001b[0;36mgenetic_algorithm\u001b[1;34m(num_generations, pop_size, num_variables, min_val, max_val, crossover_rate, mutation_rate, tournament_size)\u001b[0m\n\u001b[0;32m      7\u001b[0m all_fitness\u001b[38;5;241m=\u001b[39m[]\n\u001b[0;32m      8\u001b[0m \u001b[38;5;28;01mfor\u001b[39;00m _ \u001b[38;5;129;01min\u001b[39;00m \u001b[38;5;28mrange\u001b[39m(num_generations):\n\u001b[0;32m      9\u001b[0m     \u001b[38;5;66;03m#fitness = evaluate_population(population)\u001b[39;00m\n\u001b[1;32m---> 10\u001b[0m     fitness \u001b[38;5;241m=\u001b[39m \u001b[43mevaluate_population_with_barrier\u001b[49m\u001b[43m(\u001b[49m\u001b[43mpopulation\u001b[49m\u001b[43m,\u001b[49m\u001b[43mconstraint_func\u001b[49m\u001b[43m)\u001b[49m\n\u001b[0;32m     11\u001b[0m     best_individual, best_fitness_value \u001b[38;5;241m=\u001b[39m find_best_individual(population, fitness)\n\u001b[0;32m     12\u001b[0m     best_fitness\u001b[38;5;241m.\u001b[39mappend(best_fitness_value)\n",
            "Cell \u001b[1;32mIn[43], line 3\u001b[0m, in \u001b[0;36mevaluate_population_with_barrier\u001b[1;34m(population, constraint_func)\u001b[0m\n\u001b[0;32m      2\u001b[0m \u001b[38;5;28;01mdef\u001b[39;00m \u001b[38;5;21mevaluate_population_with_barrier\u001b[39m(population, constraint_func):\n\u001b[1;32m----> 3\u001b[0m     fitness \u001b[38;5;241m=\u001b[39m \u001b[43mnp\u001b[49m\u001b[38;5;241;43m.\u001b[39;49m\u001b[43mapply_along_axis\u001b[49m\u001b[43m(\u001b[49m\u001b[43mfitness_function\u001b[49m\u001b[43m,\u001b[49m\u001b[43m \u001b[49m\u001b[38;5;241;43m1\u001b[39;49m\u001b[43m,\u001b[49m\u001b[43m \u001b[49m\u001b[43mpopulation\u001b[49m\u001b[43m)\u001b[49m\n\u001b[0;32m      4\u001b[0m     \u001b[38;5;28;01mfor\u001b[39;00m i, sol \u001b[38;5;129;01min\u001b[39;00m \u001b[38;5;28menumerate\u001b[39m(population):\n\u001b[0;32m      5\u001b[0m         \u001b[38;5;28;01mif\u001b[39;00m \u001b[38;5;129;01mnot\u001b[39;00m \u001b[38;5;28mall\u001b[39m(c \u001b[38;5;241m>\u001b[39m\u001b[38;5;241m=\u001b[39m \u001b[38;5;241m1\u001b[39m\u001b[38;5;241m*\u001b[39m\u001b[38;5;241m10\u001b[39m\u001b[38;5;241m*\u001b[39m\u001b[38;5;241m*\u001b[39m\u001b[38;5;241m-\u001b[39m\u001b[38;5;241m5\u001b[39m  \u001b[38;5;28;01mfor\u001b[39;00m c \u001b[38;5;129;01min\u001b[39;00m constraint_func(sol)):\n",
            "File \u001b[1;32m~\\AppData\\Local\\Packages\\PythonSoftwareFoundation.Python.3.11_qbz5n2kfra8p0\\LocalCache\\local-packages\\Python311\\site-packages\\numpy\\lib\\_shape_base_impl.py:393\u001b[0m, in \u001b[0;36mapply_along_axis\u001b[1;34m(func1d, axis, arr, *args, **kwargs)\u001b[0m\n\u001b[0;32m    389\u001b[0m \u001b[38;5;28;01mexcept\u001b[39;00m \u001b[38;5;167;01mStopIteration\u001b[39;00m:\n\u001b[0;32m    390\u001b[0m     \u001b[38;5;28;01mraise\u001b[39;00m \u001b[38;5;167;01mValueError\u001b[39;00m(\n\u001b[0;32m    391\u001b[0m         \u001b[38;5;124m'\u001b[39m\u001b[38;5;124mCannot apply_along_axis when any iteration dimensions are 0\u001b[39m\u001b[38;5;124m'\u001b[39m\n\u001b[0;32m    392\u001b[0m     ) \u001b[38;5;28;01mfrom\u001b[39;00m \u001b[38;5;28;01mNone\u001b[39;00m\n\u001b[1;32m--> 393\u001b[0m res \u001b[38;5;241m=\u001b[39m asanyarray(\u001b[43mfunc1d\u001b[49m\u001b[43m(\u001b[49m\u001b[43minarr_view\u001b[49m\u001b[43m[\u001b[49m\u001b[43mind0\u001b[49m\u001b[43m]\u001b[49m\u001b[43m,\u001b[49m\u001b[43m \u001b[49m\u001b[38;5;241;43m*\u001b[39;49m\u001b[43margs\u001b[49m\u001b[43m,\u001b[49m\u001b[43m \u001b[49m\u001b[38;5;241;43m*\u001b[39;49m\u001b[38;5;241;43m*\u001b[39;49m\u001b[43mkwargs\u001b[49m\u001b[43m)\u001b[49m)\n\u001b[0;32m    395\u001b[0m \u001b[38;5;66;03m# build a buffer for storing evaluations of func1d.\u001b[39;00m\n\u001b[0;32m    396\u001b[0m \u001b[38;5;66;03m# remove the requested axis, and add the new ones on the end.\u001b[39;00m\n\u001b[0;32m    397\u001b[0m \u001b[38;5;66;03m# laid out so that each write is contiguous.\u001b[39;00m\n\u001b[0;32m    398\u001b[0m \u001b[38;5;66;03m# for a tuple index inds, buff[inds] = func1d(inarr_view[inds])\u001b[39;00m\n\u001b[0;32m    399\u001b[0m \u001b[38;5;28;01mif\u001b[39;00m \u001b[38;5;129;01mnot\u001b[39;00m \u001b[38;5;28misinstance\u001b[39m(res, matrix):\n",
            "Cell \u001b[1;32mIn[34], line 4\u001b[0m, in \u001b[0;36mobjetive_function\u001b[1;34m(x)\u001b[0m\n\u001b[0;32m      2\u001b[0m \u001b[38;5;28;01mdef\u001b[39;00m \u001b[38;5;21mobjetive_function\u001b[39m(x):\n\u001b[0;32m      3\u001b[0m     f \u001b[38;5;241m=\u001b[39m \u001b[38;5;241m0\u001b[39m\n\u001b[1;32m----> 4\u001b[0m     tam \u001b[38;5;241m=\u001b[39m \u001b[43mx\u001b[49m\u001b[38;5;241;43m.\u001b[39;49m\u001b[43msize\u001b[49m\u001b[43m(\u001b[49m\u001b[38;5;241;43m0\u001b[39;49m\u001b[43m)\u001b[49m\n\u001b[0;32m      5\u001b[0m     c \u001b[38;5;241m=\u001b[39m [\u001b[38;5;241m-\u001b[39m\u001b[38;5;241m6.089\u001b[39m,\u001b[38;5;241m-\u001b[39m\u001b[38;5;241m17.164\u001b[39m,\u001b[38;5;241m-\u001b[39m\u001b[38;5;241m34.054\u001b[39m,\u001b[38;5;241m-\u001b[39m\u001b[38;5;241m5.914\u001b[39m,\u001b[38;5;241m-\u001b[39m\u001b[38;5;241m24.721\u001b[39m,\u001b[38;5;241m-\u001b[39m\u001b[38;5;241m14.986\u001b[39m,\u001b[38;5;241m-\u001b[39m\u001b[38;5;241m24.1\u001b[39m,\u001b[38;5;241m-\u001b[39m\u001b[38;5;241m10.708\u001b[39m,\u001b[38;5;241m-\u001b[39m\u001b[38;5;241m26.662\u001b[39m,\u001b[38;5;241m-\u001b[39m\u001b[38;5;241m22.179\u001b[39m]\n\u001b[0;32m      6\u001b[0m     \u001b[38;5;28;01mfor\u001b[39;00m i \u001b[38;5;129;01min\u001b[39;00m \u001b[38;5;28mrange\u001b[39m(tam):\n",
            "\u001b[1;31mTypeError\u001b[0m: 'int' object is not callable"
          ]
        }
      ],
      "source": [
        "for num_g in (num_generations):\n",
        "    for i in range (10):\n",
        "        random.seed(i)\n",
        "        # Execução do algoritmo genético\n",
        "        best_fitness, best_solutions, all_fitness, all_solutions = genetic_algorithm(num_g, pop_size, num_variables, min_val, max_val, crossover_rate, mutation_rate, tournament_size)\n",
        "\n",
        "        # Plotando o gráfico da convergência do algoritmo\n",
        "        plt.figure(figsize=(10, 5))\n",
        "        plt.plot(best_fitness, label='Melhor Fitness')\n",
        "        plt.xlabel('Geração')\n",
        "        plt.ylabel('Fitness')\n",
        "        plt.title('Convergência do Algoritmo Genético')\n",
        "        plt.legend()\n",
        "        plt.grid(True)\n",
        "        plt.show()\n",
        "\n",
        "        #Dados para plot do gráfico 3D\n",
        "        fig = plt.figure()\n",
        "        ax = fig.add_subplot(projection='3d')\n",
        "\n",
        "        x1_v = np.array(all_solutions)[:,0]\n",
        "        x2_v = np.array(all_solutions)[:,1]\n",
        "\n",
        "        surf = ax.scatter(x1_v,x2_v,all_fitness,s=1, color='r')\n",
        "\n",
        "        show(surf)\n",
        "        \n",
        "        #melhor fitness\n",
        "        print('the best fitness is %f' % best_fitness)"
      ]
    }
  ],
  "metadata": {
    "colab": {
      "provenance": []
    },
    "kernelspec": {
      "display_name": "Python 3",
      "name": "python3"
    },
    "language_info": {
      "codemirror_mode": {
        "name": "ipython",
        "version": 3
      },
      "file_extension": ".py",
      "mimetype": "text/x-python",
      "name": "python",
      "nbconvert_exporter": "python",
      "pygments_lexer": "ipython3",
      "version": "3.11.9"
    }
  },
  "nbformat": 4,
  "nbformat_minor": 0
}
